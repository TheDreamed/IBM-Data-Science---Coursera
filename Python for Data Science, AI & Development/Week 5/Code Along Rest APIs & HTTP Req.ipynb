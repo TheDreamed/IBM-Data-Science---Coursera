{
 "cells": [
  {
   "cell_type": "code",
   "execution_count": 1,
   "id": "a703213d-cc83-4dd4-9f4b-f5c7bf83ba10",
   "metadata": {},
   "outputs": [
    {
     "data": {
      "text/plain": [
       "{'User-Agent': 'python-requests/2.28.1', 'Accept-Encoding': 'gzip, deflate, br', 'Accept': '*/*', 'Connection': 'keep-alive', 'Cookie': '_abck=3ADA8CF6827853D7573444D2438E14B6~-1~YAAQzfAoF3CvAzCGAQAAQ8X6nAnB0DPtaHIfQ0ogrjtcMLRI1srRJOYl3Y1+ewcVcLIdgCqMRNPuE0Pe9kOvjEk5Na09rw93QLVGt+qRUVWpS2mxaL2jQmRv72qaFYZjj8U+GOBx9WW6LiiBLqJ5O8CpEs981Y+/NaF7M3BSS8a8KB98u4qUtgyCatZSG7OLY4gDEJ8VmUiZfIoizcoSMj0pR4/90ZG9n35g/ThD+PoXR8UHpUeqVFrORaTYwg7e/ED040ITS69+ASKicnYyi4TDnnVNtcWS27avKH2zPfTtEavhxMtCbOLYZVOzeWOcwd0MeO4pr9jDH+6axbo7wxjhIoYEi2nki5gaXrJp7jeBx7I1FEw=~-1~-1~-1; bm_sz=0687A124AB96D5BC465EF14AD304A980~YAAQzfAoF3GvAzCGAQAAQ8X6nBJgXRPsPVwP5NTVfRheMDTuUw290pCiPkTsUtLXGHpoaupdW3pO8sa0yXERt/VtE8lEvcdw0MGEACX9lRDaDEHwE5AV1mx+qvB+qo1x+sIbphY9+WQ2EkSKcPnf0v5W+arQN3/Y2y9UVIw0mqKkl1gwxeU8Xx7mdiQTmE8Pl1Le8231r6g8EJIBb1Ae1xIxeh1fbHkWRdfrr3juQN4xi3FuQILQ/X8Ig+ehvaHA0Hiyqzlc76lz7WUUH7q8J5tN7gGwla3ETEyJ0qF89j8=~3686721~3163696'}"
      ]
     },
     "execution_count": 1,
     "metadata": {},
     "output_type": "execute_result"
    }
   ],
   "source": [
    "import requests\n",
    "url = 'https://www.ibm.com/'\n",
    "r = requests.get(url)\n",
    "r.status_code:200\n",
    "r.request.headers"
   ]
  },
  {
   "cell_type": "code",
   "execution_count": 7,
   "id": "541cf6b8-5d5f-498e-b0e9-b9d2b6f27031",
   "metadata": {},
   "outputs": [
    {
     "data": {
      "text/plain": [
       "{'Server': 'Apache', 'Last-Modified': 'Fri, 24 Feb 2023 19:52:38 GMT', 'ETag': '\"127a2-5f57778ae400f-gzip\"', 'Accept-Ranges': 'bytes', 'Content-Type': 'text/html', 'Cache-Control': 'max-age=3600', 'Expires': 'Wed, 01 Mar 2023 12:42:06 GMT', 'X-Akamai-Transformed': '9 16801 0 pmb=mTOE,2', 'Content-Encoding': 'gzip', 'Date': 'Wed, 01 Mar 2023 11:42:06 GMT', 'Transfer-Encoding': 'chunked', 'Connection': 'keep-alive, Transfer-Encoding', 'Vary': 'Accept-Encoding', 'x-content-type-options': 'nosniff', 'X-XSS-Protection': '1; mode=block', 'Content-Security-Policy': 'upgrade-insecure-requests', 'Strict-Transport-Security': 'max-age=31536000'}"
      ]
     },
     "execution_count": 7,
     "metadata": {},
     "output_type": "execute_result"
    }
   ],
   "source": [
    "r.request.body\n",
    "\n",
    "header=r.headers\n",
    "header"
   ]
  },
  {
   "cell_type": "code",
   "execution_count": 8,
   "id": "2b1cb239-a6c6-40d3-aee7-4a6d29068f6f",
   "metadata": {},
   "outputs": [
    {
     "data": {
      "text/plain": [
       "'Wed, 01 Mar 2023 11:42:06 GMT'"
      ]
     },
     "execution_count": 8,
     "metadata": {},
     "output_type": "execute_result"
    }
   ],
   "source": [
    "header['date']"
   ]
  },
  {
   "cell_type": "code",
   "execution_count": 9,
   "id": "bf3748b6-bb22-4c4d-81d3-f00c2cbd039b",
   "metadata": {},
   "outputs": [
    {
     "data": {
      "text/plain": [
       "'text/html'"
      ]
     },
     "execution_count": 9,
     "metadata": {},
     "output_type": "execute_result"
    }
   ],
   "source": [
    "header['Content-Type']"
   ]
  },
  {
   "cell_type": "code",
   "execution_count": 10,
   "id": "e521bc16-7ca9-4345-9fb2-ef65fa7700e6",
   "metadata": {},
   "outputs": [
    {
     "data": {
      "text/plain": [
       "'ISO-8859-1'"
      ]
     },
     "execution_count": 10,
     "metadata": {},
     "output_type": "execute_result"
    }
   ],
   "source": [
    "r.encoding"
   ]
  },
  {
   "cell_type": "code",
   "execution_count": 11,
   "id": "844ef3d5-27a2-4650-a240-15718aa14487",
   "metadata": {},
   "outputs": [
    {
     "data": {
      "text/plain": [
       "'<!DOCTYPE html><html lang=\"en-US\"><head><meta name=\"viewport\" content=\"width=device-width\"/><meta ch'"
      ]
     },
     "execution_count": 11,
     "metadata": {},
     "output_type": "execute_result"
    }
   ],
   "source": [
    "r.text[0:100]"
   ]
  },
  {
   "cell_type": "code",
   "execution_count": 17,
   "id": "fae10abf-4d91-4661-ae5a-735ce0640df3",
   "metadata": {},
   "outputs": [
    {
     "data": {
      "text/plain": [
       "200"
      ]
     },
     "execution_count": 17,
     "metadata": {},
     "output_type": "execute_result"
    }
   ],
   "source": [
    "url_get = 'http://httpbin.org/get'\n",
    "payload = {'name':\"Joseph\", 'ID':'123'}\n",
    "\n",
    "r = requests.get(url_get, params=payload)\n",
    "\n",
    "r.url\n",
    "r.request.body\n",
    "r.status_code"
   ]
  },
  {
   "cell_type": "code",
   "execution_count": 18,
   "id": "487dbc00-6289-4b90-b646-ab19416f53fc",
   "metadata": {},
   "outputs": [
    {
     "data": {
      "text/plain": [
       "'{\\n  \"args\": {\\n    \"ID\": \"123\", \\n    \"name\": \"Joseph\"\\n  }, \\n  \"headers\": {\\n    \"Accept\": \"*/*\", \\n    \"Accept-Encoding\": \"gzip, deflate\", \\n    \"Host\": \"httpbin.org\", \\n    \"User-Agent\": \"python-requests/2.28.1\", \\n    \"X-Amzn-Trace-Id\": \"Root=1-63ff3b7f-4a4d4bb4211396b31c1f3dcf\"\\n  }, \\n  \"origin\": \"156.236.95.1\", \\n  \"url\": \"http://httpbin.org/get?name=Joseph&ID=123\"\\n}\\n'"
      ]
     },
     "execution_count": 18,
     "metadata": {},
     "output_type": "execute_result"
    }
   ],
   "source": [
    "r.text"
   ]
  },
  {
   "cell_type": "code",
   "execution_count": 19,
   "id": "0fd66cd6-a5fa-44bd-b925-0bb294fc3bc5",
   "metadata": {},
   "outputs": [
    {
     "data": {
      "text/plain": [
       "'application/json'"
      ]
     },
     "execution_count": 19,
     "metadata": {},
     "output_type": "execute_result"
    }
   ],
   "source": [
    "r.headers['Content-Type']"
   ]
  },
  {
   "cell_type": "code",
   "execution_count": 20,
   "id": "5124cbfc-0800-4de2-aba1-aaf91e5bbe4b",
   "metadata": {},
   "outputs": [
    {
     "data": {
      "text/plain": [
       "{'args': {'ID': '123', 'name': 'Joseph'},\n",
       " 'headers': {'Accept': '*/*',\n",
       "  'Accept-Encoding': 'gzip, deflate',\n",
       "  'Host': 'httpbin.org',\n",
       "  'User-Agent': 'python-requests/2.28.1',\n",
       "  'X-Amzn-Trace-Id': 'Root=1-63ff3b7f-4a4d4bb4211396b31c1f3dcf'},\n",
       " 'origin': '156.236.95.1',\n",
       " 'url': 'http://httpbin.org/get?name=Joseph&ID=123'}"
      ]
     },
     "execution_count": 20,
     "metadata": {},
     "output_type": "execute_result"
    }
   ],
   "source": [
    "r.json()"
   ]
  },
  {
   "cell_type": "code",
   "execution_count": 21,
   "id": "38ac6ab3-e184-4623-a5ba-8857f526635d",
   "metadata": {},
   "outputs": [
    {
     "data": {
      "text/plain": [
       "{'ID': '123', 'name': 'Joseph'}"
      ]
     },
     "execution_count": 21,
     "metadata": {},
     "output_type": "execute_result"
    }
   ],
   "source": [
    "r.json()['args']"
   ]
  },
  {
   "cell_type": "code",
   "execution_count": 23,
   "id": "435b9223-0eb2-49db-9055-caae21519a0b",
   "metadata": {},
   "outputs": [],
   "source": [
    "url_post = 'http://httpbin.org/post'\n",
    "payload = {'name':\"Joseph\", 'ID':'123'}\n",
    "\n",
    "r_post=requests.post(url_post, data=payload)"
   ]
  },
  {
   "cell_type": "code",
   "execution_count": 24,
   "id": "f6b6531c-52db-4f92-b819-8e8e242c1f75",
   "metadata": {},
   "outputs": [
    {
     "data": {
      "text/plain": [
       "<Response [200]>"
      ]
     },
     "execution_count": 24,
     "metadata": {},
     "output_type": "execute_result"
    }
   ],
   "source": [
    "r_post"
   ]
  },
  {
   "cell_type": "code",
   "execution_count": 25,
   "id": "59987a15-0db4-4f0f-86f8-91b87d340baf",
   "metadata": {},
   "outputs": [
    {
     "name": "stdout",
     "output_type": "stream",
     "text": [
      "http://httpbin.org/post\n",
      "http://httpbin.org/get?name=Joseph&ID=123\n"
     ]
    }
   ],
   "source": [
    "print(r_post.url)\n",
    "print(r.url)"
   ]
  },
  {
   "cell_type": "code",
   "execution_count": 26,
   "id": "57ea892b-16e7-4e10-9266-b6cbdfaa159b",
   "metadata": {},
   "outputs": [
    {
     "data": {
      "text/plain": [
       "{'ID': '123', 'name': 'Joseph'}"
      ]
     },
     "execution_count": 26,
     "metadata": {},
     "output_type": "execute_result"
    }
   ],
   "source": [
    "r_post.json()['form']"
   ]
  },
  {
   "cell_type": "code",
   "execution_count": null,
   "id": "159753c1-d6e3-4db2-9b17-3d62ca507524",
   "metadata": {},
   "outputs": [],
   "source": []
  }
 ],
 "metadata": {
  "kernelspec": {
   "display_name": "Python 3 (ipykernel)",
   "language": "python",
   "name": "python3"
  },
  "language_info": {
   "codemirror_mode": {
    "name": "ipython",
    "version": 3
   },
   "file_extension": ".py",
   "mimetype": "text/x-python",
   "name": "python",
   "nbconvert_exporter": "python",
   "pygments_lexer": "ipython3",
   "version": "3.9.13"
  }
 },
 "nbformat": 4,
 "nbformat_minor": 5
}
