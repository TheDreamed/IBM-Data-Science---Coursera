{
 "cells": [
  {
   "cell_type": "markdown",
   "metadata": {},
   "source": [
    "<center>\n",
    "    <img src=\"https://cf-courses-data.s3.us.cloud-object-storage.appdomain.cloud/assets/logos/SN_web_lightmode.png\" width=\"300\" alt=\"cognitiveclass.ai logo\">\n",
    "</center>\n",
    "\n",
    "\n",
    "# Connect to Db2 database on Cloud using Python\n",
    "\n",
    "\n",
    "Estimated time needed: **15** minutes\n",
    "    \n",
    "\n",
    "## Objectives\n",
    "\n",
    "After completing this lab you will be able to:\n",
    "\n",
    "* Import the ibm_db Python library\n",
    "* Enter the database connection credentials\n",
    "* Create the database connection\n",
    "* Close the database connection\n"
   ]
  },
  {
   "cell_type": "markdown",
   "metadata": {},
   "source": [
    "\n",
    "__Note:__ Please follow the instructions given in the first Lab of this course to Create a database service instance of Db2 on Cloud and retrieve your database Service Credentials.\n",
    "\n",
    "## Import the `ibm_db` Python library\n",
    "\n",
    "The `ibm_db` [API ](https://pypi.python.org/pypi/ibm_db/?utm_medium=Exinfluencer&utm_source=Exinfluencer&utm_content=000026UJ&utm_term=10006555&utm_id=NA-SkillsNetwork-Channel-SkillsNetworkCoursesIBMDeveloperSkillsNetworkDB0201ENSkillsNetwork22-2022-01-01) provides a variety of useful Python functions for accessing and manipulating data in an IBM® data server database, including functions for connecting to a database, preparing and issuing SQL statements, fetching rows from result sets, calling stored procedures, committing and rolling back transactions, handling errors, and retrieving metadata.\n",
    "\n",
    "\n",
    "We first import the ibm_db library into our Python Application\n",
    "\n",
    "Execute the following cells by clicking within it and then \n",
    "press `Shift` and `Enter` keys simultaneously\n",
    "\n",
    "The following required modules are pre-installed in the Skills Network Labs environment. However if you run this notebook commands in a different Jupyter environment (e.g. Watson Studio or Ananconda) you may need to install these libraries by removing the `#` sign before `!pip` in the code cell below.\n"
   ]
  },
  {
   "cell_type": "code",
   "execution_count": 4,
   "metadata": {},
   "outputs": [
    {
     "name": "stdout",
     "output_type": "stream",
     "text": [
      "Collecting ibm_db==3.1.0\n",
      "  Downloading ibm_db-3.1.0.tar.gz (797 kB)\n",
      "     ------------------------------------ 797.3/797.3 kB 553.5 kB/s eta 0:00:00\n",
      "  Installing build dependencies: started\n",
      "  Installing build dependencies: still running...\n",
      "  Installing build dependencies: finished with status 'done'\n",
      "  Getting requirements to build wheel: started\n",
      "  Getting requirements to build wheel: still running...\n",
      "  Getting requirements to build wheel: finished with status 'done'\n",
      "  Installing backend dependencies: started\n",
      "  Installing backend dependencies: finished with status 'done'\n",
      "  Preparing metadata (pyproject.toml): started\n",
      "  Preparing metadata (pyproject.toml): finished with status 'done'\n",
      "Collecting ibm_db_sa==0.3.3\n",
      "  Downloading ibm_db_sa-0.3.3.tar.gz (24 kB)\n",
      "  Preparing metadata (setup.py): started\n",
      "  Preparing metadata (setup.py): finished with status 'done'\n",
      "Collecting sqlalchemy>=0.7.3\n",
      "  Downloading SQLAlchemy-2.0.5.post1-cp39-cp39-win_amd64.whl (2.0 MB)\n",
      "     ---------------------------------------- 2.0/2.0 MB 580.4 kB/s eta 0:00:00\n",
      "Collecting greenlet!=0.4.17\n",
      "  Downloading greenlet-2.0.2-cp39-cp39-win_amd64.whl (192 kB)\n",
      "     ------------------------------------ 192.1/192.1 kB 387.7 kB/s eta 0:00:00\n",
      "Collecting typing-extensions>=4.2.0\n",
      "  Downloading typing_extensions-4.5.0-py3-none-any.whl (27 kB)\n",
      "Building wheels for collected packages: ibm_db, ibm_db_sa\n",
      "  Building wheel for ibm_db (pyproject.toml): started\n",
      "  Building wheel for ibm_db (pyproject.toml): finished with status 'done'\n",
      "  Created wheel for ibm_db: filename=ibm_db-3.1.0-py3-none-any.whl size=27687109 sha256=1d408e1f02ac8d2cce7ee56d048d2fd412e87649d2bf4498f22bfd91f03f91ef\n",
      "  Stored in directory: c:\\users\\63999\\appdata\\local\\pip\\cache\\wheels\\0a\\dd\\10\\4a9ad59949e39786d729813e4bce24ccf2263c6d60a62de2f2\n",
      "  Building wheel for ibm_db_sa (setup.py): started\n",
      "  Building wheel for ibm_db_sa (setup.py): finished with status 'done'\n",
      "  Created wheel for ibm_db_sa: filename=ibm_db_sa-0.3.3-py3-none-any.whl size=27424 sha256=a265d01ddb1145a85b8f46a2a8d90e3c53b50f7716b3e4c2b3ae2e8efb25142a\n",
      "  Stored in directory: c:\\users\\63999\\appdata\\local\\pip\\cache\\wheels\\8f\\98\\0c\\930c68279890092297e12d4cc20e95613ddab15af6753d92bb\n",
      "Successfully built ibm_db ibm_db_sa\n",
      "Installing collected packages: ibm_db, typing-extensions, greenlet, sqlalchemy, ibm_db_sa\n",
      "  Attempting uninstall: typing-extensions\n",
      "    Found existing installation: typing_extensions 4.3.0\n",
      "    Uninstalling typing_extensions-4.3.0:\n",
      "      Successfully uninstalled typing_extensions-4.3.0\n",
      "  Attempting uninstall: greenlet\n",
      "    Found existing installation: greenlet 1.1.1\n",
      "    Uninstalling greenlet-1.1.1:\n",
      "      Successfully uninstalled greenlet-1.1.1\n",
      "  Attempting uninstall: sqlalchemy\n",
      "    Found existing installation: sqlalchemy 1.4.39\n",
      "    Can't uninstall 'sqlalchemy'. No files were found to uninstall.\n",
      "Successfully installed greenlet-2.0.2 ibm_db-3.1.0 ibm_db_sa-0.3.3 sqlalchemy-2.0.5.post1 typing-extensions-4.5.0\n"
     ]
    },
    {
     "name": "stderr",
     "output_type": "stream",
     "text": [
      "WARNING: Error parsing requirements for sqlalchemy: [Errno 2] No such file or directory: 'c:\\\\users\\\\63999\\\\anaconda3\\\\lib\\\\site-packages\\\\SQLAlchemy-1.4.39.dist-info\\\\METADATA'\n",
      "    WARNING: No metadata found in c:\\users\\63999\\anaconda3\\lib\\site-packages\n"
     ]
    },
    {
     "name": "stdout",
     "output_type": "stream",
     "text": [
      "Collecting ibm_db==3.1.0\n",
      "  Using cached ibm_db-3.1.0-py3-none-any.whl\n",
      "Collecting ibm_db_sa==0.3.3\n",
      "  Using cached ibm_db_sa-0.3.3-py3-none-any.whl\n",
      "Collecting sqlalchemy>=0.7.3\n",
      "  Using cached SQLAlchemy-2.0.5.post1-cp39-cp39-win_amd64.whl (2.0 MB)\n",
      "Collecting typing-extensions>=4.2.0\n",
      "  Using cached typing_extensions-4.5.0-py3-none-any.whl (27 kB)\n",
      "Collecting greenlet!=0.4.17\n",
      "  Using cached greenlet-2.0.2-cp39-cp39-win_amd64.whl (192 kB)\n",
      "Installing collected packages: ibm_db, typing-extensions, greenlet, sqlalchemy, ibm_db_sa\n",
      "  Attempting uninstall: ibm_db\n",
      "    Found existing installation: ibm-db 3.1.0\n",
      "    Uninstalling ibm-db-3.1.0:\n",
      "      Successfully uninstalled ibm-db-3.1.0\n",
      "  Attempting uninstall: typing-extensions\n",
      "    Found existing installation: typing-extensions 4.3.0\n",
      "    Can't uninstall 'typing-extensions'. No files were found to uninstall.\n",
      "  Attempting uninstall: greenlet\n",
      "    Found existing installation: greenlet 1.1.1\n",
      "    Can't uninstall 'greenlet'. No files were found to uninstall.\n",
      "  Attempting uninstall: sqlalchemy\n",
      "    Found existing installation: SQLAlchemy 2.0.5.post1\n",
      "    Uninstalling SQLAlchemy-2.0.5.post1:\n",
      "      Successfully uninstalled SQLAlchemy-2.0.5.post1\n",
      "Successfully installed greenlet-2.0.2 ibm_db-3.1.0 ibm_db_sa-0.3.3 sqlalchemy-2.0.5.post1 typing-extensions-4.5.0\n"
     ]
    },
    {
     "name": "stderr",
     "output_type": "stream",
     "text": [
      "    WARNING: No metadata found in c:\\users\\63999\\anaconda3\\lib\\site-packages\n",
      "    WARNING: No metadata found in c:\\users\\63999\\anaconda3\\lib\\site-packages\n"
     ]
    },
    {
     "name": "stdout",
     "output_type": "stream",
     "text": [
      "Found existing installation: SQLAlchemy 2.0.5.post1\n",
      "Uninstalling SQLAlchemy-2.0.5.post1:\n",
      "  Successfully uninstalled SQLAlchemy-2.0.5.post1\n",
      "Collecting sqlalchemy==1.3.24\n",
      "  Downloading SQLAlchemy-1.3.24-cp39-cp39-win_amd64.whl (1.2 MB)\n",
      "     ---------------------------------------- 1.2/1.2 MB 525.4 kB/s eta 0:00:00\n",
      "Installing collected packages: sqlalchemy\n",
      "Successfully installed sqlalchemy-1.3.24\n"
     ]
    },
    {
     "name": "stderr",
     "output_type": "stream",
     "text": [
      "ERROR: pip's dependency resolver does not currently take into account all the packages that are installed. This behaviour is the source of the following dependency conflicts.\n",
      "ipython-sql 0.5.0 requires sqlalchemy>=2.0, but you have sqlalchemy 1.3.24 which is incompatible.\n"
     ]
    },
    {
     "name": "stdout",
     "output_type": "stream",
     "text": [
      "Requirement already satisfied: ipython-sql in c:\\users\\63999\\anaconda3\\lib\\site-packages (0.5.0)\n",
      "Collecting sqlalchemy>=2.0\n",
      "  Using cached SQLAlchemy-2.0.5.post1-cp39-cp39-win_amd64.whl (2.0 MB)\n",
      "Requirement already satisfied: ipython in c:\\users\\63999\\anaconda3\\lib\\site-packages (from ipython-sql) (7.31.1)\n",
      "Requirement already satisfied: six in c:\\users\\63999\\anaconda3\\lib\\site-packages (from ipython-sql) (1.16.0)\n",
      "Requirement already satisfied: sqlparse in c:\\users\\63999\\anaconda3\\lib\\site-packages (from ipython-sql) (0.4.3)\n",
      "Requirement already satisfied: prettytable in c:\\users\\63999\\anaconda3\\lib\\site-packages (from ipython-sql) (3.6.0)\n",
      "Requirement already satisfied: ipython-genutils in c:\\users\\63999\\anaconda3\\lib\\site-packages (from ipython-sql) (0.2.0)\n",
      "Requirement already satisfied: greenlet!=0.4.17 in c:\\users\\63999\\anaconda3\\lib\\site-packages (from sqlalchemy>=2.0->ipython-sql) (2.0.2)\n",
      "Requirement already satisfied: typing-extensions>=4.2.0 in c:\\users\\63999\\anaconda3\\lib\\site-packages (from sqlalchemy>=2.0->ipython-sql) (4.5.0)\n",
      "Requirement already satisfied: setuptools>=18.5 in c:\\users\\63999\\anaconda3\\lib\\site-packages (from ipython->ipython-sql) (63.4.1)\n",
      "Requirement already satisfied: pickleshare in c:\\users\\63999\\anaconda3\\lib\\site-packages (from ipython->ipython-sql) (0.7.5)\n",
      "Requirement already satisfied: matplotlib-inline in c:\\users\\63999\\anaconda3\\lib\\site-packages (from ipython->ipython-sql) (0.1.6)\n",
      "Requirement already satisfied: colorama in c:\\users\\63999\\anaconda3\\lib\\site-packages (from ipython->ipython-sql) (0.4.5)\n",
      "Requirement already satisfied: traitlets>=4.2 in c:\\users\\63999\\anaconda3\\lib\\site-packages (from ipython->ipython-sql) (5.1.1)\n",
      "Requirement already satisfied: pygments in c:\\users\\63999\\anaconda3\\lib\\site-packages (from ipython->ipython-sql) (2.11.2)\n",
      "Requirement already satisfied: backcall in c:\\users\\63999\\anaconda3\\lib\\site-packages (from ipython->ipython-sql) (0.2.0)\n",
      "Requirement already satisfied: decorator in c:\\users\\63999\\anaconda3\\lib\\site-packages (from ipython->ipython-sql) (5.1.1)\n",
      "Requirement already satisfied: jedi>=0.16 in c:\\users\\63999\\anaconda3\\lib\\site-packages (from ipython->ipython-sql) (0.18.1)\n",
      "Requirement already satisfied: prompt-toolkit!=3.0.0,!=3.0.1,<3.1.0,>=2.0.0 in c:\\users\\63999\\anaconda3\\lib\\site-packages (from ipython->ipython-sql) (3.0.20)\n",
      "Requirement already satisfied: wcwidth in c:\\users\\63999\\anaconda3\\lib\\site-packages (from prettytable->ipython-sql) (0.2.5)\n",
      "Requirement already satisfied: parso<0.9.0,>=0.8.0 in c:\\users\\63999\\anaconda3\\lib\\site-packages (from jedi>=0.16->ipython->ipython-sql) (0.8.3)\n",
      "Installing collected packages: sqlalchemy\n",
      "  Attempting uninstall: sqlalchemy\n",
      "    Found existing installation: SQLAlchemy 1.3.24\n",
      "    Uninstalling SQLAlchemy-1.3.24:\n",
      "      Successfully uninstalled SQLAlchemy-1.3.24\n",
      "Successfully installed sqlalchemy-2.0.5.post1\n"
     ]
    }
   ],
   "source": [
    "# These libraries are pre-installed in SN Labs. If running in another environment please uncomment lines below to install them:\n",
    "!pip install --force-reinstall ibm_db==3.1.0 ibm_db_sa==0.3.3\n",
    "# Ensure we don't load_ext with sqlalchemy>=1.4 (incompadible)\n",
    "!pip uninstall sqlalchemy==1.4 -y && pip install sqlalchemy==1.3.24\n",
    "!pip install ipython-sql"
   ]
  },
  {
   "cell_type": "code",
   "execution_count": 5,
   "metadata": {},
   "outputs": [],
   "source": [
    "import ibm_db"
   ]
  },
  {
   "cell_type": "markdown",
   "metadata": {},
   "source": [
    "When the command above completes, the `ibm_db` library is loaded in your notebook. \n",
    "\n",
    "\n",
    "## Identify the database connection credentials\n",
    "\n",
    "Connecting to dashDB or DB2 database requires the following information:\n",
    "* Driver Name\n",
    "* Database name \n",
    "* Host DNS name or IP address \n",
    "* Host port\n",
    "* Connection protocol\n",
    "* User ID (or username)\n",
    "* User Password\n",
    "\n",
    "\n",
    "\n",
    "__Notice:__ To obtain credentials please refer to the instructions given in the first Lab of this course\n",
    "\n",
    "Now enter your database credentials below and execute the cell with `Shift` + `Enter`\n"
   ]
  },
  {
   "cell_type": "code",
   "execution_count": 6,
   "metadata": {},
   "outputs": [],
   "source": [
    "#Replace the placeholder values with your actual Db2 hostname, username, and password:\n",
    "dsn_hostname = \"2d46b6b4-cbf6-40eb-bbce-6251e6ba0300.bs2io90l08kqb1od8lcg.databases.appdomain.cloud\" # e.g.: \"54a2f15b-5c0f-46df-8954-7e38e612c2bd.c1ogj3sd0tgtu0lqde00.databases.appdomain.cloud\"\n",
    "dsn_uid = \"hbw13017\"        # e.g. \"abc12345\"\n",
    "dsn_pwd = \"JC56XouHGptlK1Zb\"      # e.g. \"7dBZ3wWt9XN6$o0J\"\n",
    "\n",
    "dsn_driver = \"{IBM DB2 ODBC DRIVER}\"\n",
    "dsn_database = \"BLUDB\"            # e.g. \"BLUDB\"\n",
    "dsn_port = \"32328\"                # e.g. \"32733\" \n",
    "dsn_protocol = \"TCPIP\"            # i.e. \"TCPIP\"\n",
    "dsn_security = \"SSL\"              #i.e. \"SSL\""
   ]
  },
  {
   "cell_type": "markdown",
   "metadata": {},
   "source": [
    "## Create the DB2 database connection\n",
    "\n",
    "Ibm_db API uses the IBM Data Server Driver for ODBC and CLI APIs to connect to IBM DB2 and Informix.\n",
    "\n",
    "\n",
    "Lets build the dsn connection string using the credentials you entered above\n"
   ]
  },
  {
   "cell_type": "code",
   "execution_count": 7,
   "metadata": {},
   "outputs": [
    {
     "name": "stdout",
     "output_type": "stream",
     "text": [
      "DRIVER={IBM DB2 ODBC DRIVER};DATABASE=BLUDB;HOSTNAME=2d46b6b4-cbf6-40eb-bbce-6251e6ba0300.bs2io90l08kqb1od8lcg.databases.appdomain.cloud;PORT=32328;PROTOCOL=TCPIP;UID=hbw13017;PWD=JC56XouHGptlK1Zb;SECURITY=SSL;\n"
     ]
    }
   ],
   "source": [
    "#DO NOT MODIFY THIS CELL. Just RUN it with Shift + Enter\n",
    "#Create the dsn connection string\n",
    "dsn = (\n",
    "    \"DRIVER={0};\"\n",
    "    \"DATABASE={1};\"\n",
    "    \"HOSTNAME={2};\"\n",
    "    \"PORT={3};\"\n",
    "    \"PROTOCOL={4};\"\n",
    "    \"UID={5};\"\n",
    "    \"PWD={6};\"\n",
    "    \"SECURITY={7};\").format(dsn_driver, dsn_database, dsn_hostname, dsn_port, dsn_protocol, dsn_uid, dsn_pwd,dsn_security)\n",
    "\n",
    "#print the connection string to check correct values are specified\n",
    "print(dsn)"
   ]
  },
  {
   "cell_type": "markdown",
   "metadata": {},
   "source": [
    "Now establish the connection to the database\n"
   ]
  },
  {
   "cell_type": "code",
   "execution_count": 8,
   "metadata": {},
   "outputs": [
    {
     "name": "stdout",
     "output_type": "stream",
     "text": [
      "Connected to database:  BLUDB as user:  hbw13017 on host:  2d46b6b4-cbf6-40eb-bbce-6251e6ba0300.bs2io90l08kqb1od8lcg.databases.appdomain.cloud\n"
     ]
    }
   ],
   "source": [
    "#DO NOT MODIFY THIS CELL. Just RUN it with Shift + Enter\n",
    "#Create database connection\n",
    "\n",
    "try:\n",
    "    conn = ibm_db.connect(dsn, \"\", \"\")\n",
    "    print (\"Connected to database: \", dsn_database, \"as user: \", dsn_uid, \"on host: \", dsn_hostname)\n",
    "\n",
    "except:\n",
    "    print (\"Unable to connect: \", ibm_db.conn_errormsg() )\n"
   ]
  },
  {
   "cell_type": "markdown",
   "metadata": {},
   "source": [
    "Congratulations if you were able to connect successfuly. Otherwise check the error and try again.\n"
   ]
  },
  {
   "cell_type": "code",
   "execution_count": 9,
   "metadata": {},
   "outputs": [
    {
     "name": "stdout",
     "output_type": "stream",
     "text": [
      "DBMS_NAME:  DB2/LINUXX8664\n",
      "DBMS_VER:   11.05.0800\n",
      "DB_NAME:    BLUDB\n"
     ]
    }
   ],
   "source": [
    "#Retrieve Metadata for the Database Server\n",
    "server = ibm_db.server_info(conn)\n",
    "\n",
    "print (\"DBMS_NAME: \", server.DBMS_NAME)\n",
    "print (\"DBMS_VER:  \", server.DBMS_VER)\n",
    "print (\"DB_NAME:   \", server.DB_NAME)"
   ]
  },
  {
   "cell_type": "code",
   "execution_count": 10,
   "metadata": {},
   "outputs": [
    {
     "name": "stdout",
     "output_type": "stream",
     "text": [
      "DRIVER_NAME:           DB2CLI.DLL\n",
      "DRIVER_VER:            11.05.0800\n",
      "DATA_SOURCE_NAME:      BLUDB\n",
      "DRIVER_ODBC_VER:       03.51\n",
      "ODBC_VER:              03.01.0000\n",
      "ODBC_SQL_CONFORMANCE:  EXTENDED\n",
      "APPL_CODEPAGE:         1252\n",
      "CONN_CODEPAGE:         1208\n"
     ]
    }
   ],
   "source": [
    "#Retrieve Metadata for the Database Client / Driver\n",
    "client = ibm_db.client_info(conn)\n",
    "\n",
    "print (\"DRIVER_NAME:          \", client.DRIVER_NAME) \n",
    "print (\"DRIVER_VER:           \", client.DRIVER_VER)\n",
    "print (\"DATA_SOURCE_NAME:     \", client.DATA_SOURCE_NAME)\n",
    "print (\"DRIVER_ODBC_VER:      \", client.DRIVER_ODBC_VER)\n",
    "print (\"ODBC_VER:             \", client.ODBC_VER)\n",
    "print (\"ODBC_SQL_CONFORMANCE: \", client.ODBC_SQL_CONFORMANCE)\n",
    "print (\"APPL_CODEPAGE:        \", client.APPL_CODEPAGE)\n",
    "print (\"CONN_CODEPAGE:        \", client.CONN_CODEPAGE)"
   ]
  },
  {
   "cell_type": "markdown",
   "metadata": {},
   "source": [
    "## Close the Connection\n",
    "We free all resources by closing the connection. Remember that it is always important to close connections so that we can avoid unused connections taking up resources.\n"
   ]
  },
  {
   "cell_type": "code",
   "execution_count": 11,
   "metadata": {},
   "outputs": [
    {
     "data": {
      "text/plain": [
       "True"
      ]
     },
     "execution_count": 11,
     "metadata": {},
     "output_type": "execute_result"
    }
   ],
   "source": [
    "ibm_db.close(conn)"
   ]
  },
  {
   "cell_type": "markdown",
   "metadata": {},
   "source": [
    "## Summary\n",
    "\n",
    "In this tutorial you established a connection to a DB2 database on Cloud database from a Python notebook using ibm_db API. \n"
   ]
  },
  {
   "cell_type": "markdown",
   "metadata": {},
   "source": [
    "## Author\n",
    "\n",
    "<a href=\"https://www.linkedin.com/in/ravahuja?utm_medium=Exinfluencer&utm_source=Exinfluencer&utm_content=000026UJ&utm_term=10006555&utm_id=NA-SkillsNetwork-Channel-SkillsNetworkCoursesIBMDeveloperSkillsNetworkDB0201ENSkillsNetwork22-2022-01-01\">Rav Ahuja</a>\n",
    "\n",
    "\n",
    "## Change Log\n",
    "\n",
    "\n",
    "|  Date (YYYY-MM-DD) |  Version | Changed By  |  Change Description |\n",
    "|---|---|---|---|\n",
    "| 2021-11-17  | 2.2  | Lakshmi  | Updated library  |\n",
    "| 2021-07-09  | 2.1  | Malika   | Updated the connection string  |\n",
    "| 2020-08-28  | 2.0  | Lavanya  |  Moved lab to course repo in GitLab  |\n",
    "\n",
    "\n",
    "\n",
    "<hr>\n",
    "\n",
    "## <h3 align=\"center\"> © IBM Corporation 2020. All rights reserved. <h3/>\n"
   ]
  }
 ],
 "metadata": {
  "kernelspec": {
   "display_name": "Python 3 (ipykernel)",
   "language": "python",
   "name": "python3"
  },
  "language_info": {
   "codemirror_mode": {
    "name": "ipython",
    "version": 3
   },
   "file_extension": ".py",
   "mimetype": "text/x-python",
   "name": "python",
   "nbconvert_exporter": "python",
   "pygments_lexer": "ipython3",
   "version": "3.9.13"
  }
 },
 "nbformat": 4,
 "nbformat_minor": 4
}
